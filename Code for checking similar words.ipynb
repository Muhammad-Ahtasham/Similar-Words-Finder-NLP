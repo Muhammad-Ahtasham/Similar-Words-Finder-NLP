{
 "cells": [
  {
   "cell_type": "code",
   "execution_count": 1,
   "id": "fcbf4626",
   "metadata": {},
   "outputs": [],
   "source": [
    "# import bs4 as bs\n",
    "from bs4 import BeautifulSoup\n",
    "import urllib.request\n",
    "import re\n",
    "import nltk"
   ]
  },
  {
   "cell_type": "code",
   "execution_count": 2,
   "id": "8b46337f",
   "metadata": {},
   "outputs": [],
   "source": [
    "scrapped_data = urllib.request.urlopen('https://en.wikipedia.org/wiki/Machine_learning')\n",
    "article = scrapped_data.read()\n",
    "\n"
   ]
  },
  {
   "cell_type": "code",
   "execution_count": 3,
   "id": "399c6f86",
   "metadata": {},
   "outputs": [],
   "source": [
    "# parsed_article = bs.BeautifulSoup(article,'lxml')\n",
    "parsed_article = BeautifulSoup(article,'lxml')\n",
    "\n"
   ]
  },
  {
   "cell_type": "code",
   "execution_count": 4,
   "id": "b2fabe22",
   "metadata": {},
   "outputs": [],
   "source": [
    "paragraphs = parsed_article.find_all('p')\n",
    "\n",
    "article_text = \"\"\n",
    "\n",
    "for p in paragraphs:\n",
    "    article_text += p.text"
   ]
  },
  {
   "cell_type": "code",
   "execution_count": null,
   "id": "084a1af9",
   "metadata": {},
   "outputs": [],
   "source": []
  },
  {
   "cell_type": "code",
   "execution_count": 5,
   "id": "49023519",
   "metadata": {},
   "outputs": [],
   "source": [
    "try:\n",
    "    import string\n",
    "    from nltk.corpus import stopwords\n",
    "    import nltk\n",
    "except Exception as e:\n",
    "    print(e)\n",
    "\n",
    "\n",
    "class PreProcessText(object):\n",
    "\n",
    "    def __init__(self):\n",
    "        pass\n",
    "\n",
    "    def __remove_punctuation(self, text):\n",
    "        \"\"\"\n",
    "        Takes a String\n",
    "        return : Return a String\n",
    "        \"\"\"\n",
    "        message = []\n",
    "        for x in text:\n",
    "            if x in string.punctuation:\n",
    "                pass\n",
    "            else:\n",
    "                message.append(x)\n",
    "        message = ''.join(message)\n",
    "\n",
    "        return message\n",
    "\n",
    "    def __remove_stopwords(self, text):\n",
    "        \"\"\"\n",
    "        Takes a String\n",
    "        return List\n",
    "        \"\"\"\n",
    "        words= []\n",
    "        for x in text.split():\n",
    "\n",
    "            if x.lower() in stopwords.words('english'):\n",
    "                pass\n",
    "            else:\n",
    "                words.append(x)\n",
    "        return words\n",
    "\n",
    "\n",
    "    def token_words(self,text=''):\n",
    "        \"\"\"\n",
    "        Takes String\n",
    "        Return Token also called  list of words that is used to\n",
    "        Train the Model\n",
    "        \"\"\"\n",
    "        message = self.__remove_punctuation(text)\n",
    "        words = self.__remove_stopwords(message)\n",
    "        return words"
   ]
  },
  {
   "cell_type": "code",
   "execution_count": 6,
   "id": "a645dbef",
   "metadata": {},
   "outputs": [],
   "source": [
    "helper = PreProcessText()\n",
    "#words = helper.token_words(text=txt)\n",
    "words = helper.token_words(text=article_text)"
   ]
  },
  {
   "cell_type": "code",
   "execution_count": 7,
   "id": "a770e35f",
   "metadata": {},
   "outputs": [],
   "source": [
    "from gensim.models import Word2Vec"
   ]
  },
  {
   "cell_type": "code",
   "execution_count": 9,
   "id": "aa27b534",
   "metadata": {},
   "outputs": [],
   "source": [
    "model = Word2Vec([words], vector_size=100, window=5, min_count=1, workers=4)"
   ]
  },
  {
   "cell_type": "code",
   "execution_count": null,
   "id": "16e8ca5f",
   "metadata": {},
   "outputs": [],
   "source": []
  },
  {
   "cell_type": "code",
   "execution_count": 10,
   "id": "f8325957",
   "metadata": {},
   "outputs": [
    {
     "ename": "AttributeError",
     "evalue": "The vocab attribute was removed from KeyedVector in Gensim 4.0.0.\nUse KeyedVector's .key_to_index dict, .index_to_key list, and methods .get_vecattr(key, attr) and .set_vecattr(key, attr, new_val) instead.\nSee https://github.com/RaRe-Technologies/gensim/wiki/Migrating-from-Gensim-3.x-to-4",
     "output_type": "error",
     "traceback": [
      "\u001b[1;31m---------------------------------------------------------------------------\u001b[0m",
      "\u001b[1;31mAttributeError\u001b[0m                            Traceback (most recent call last)",
      "\u001b[1;32m~\\AppData\\Local\\Temp/ipykernel_10968/3230133067.py\u001b[0m in \u001b[0;36m<module>\u001b[1;34m\u001b[0m\n\u001b[1;32m----> 1\u001b[1;33m \u001b[0mvocabulary\u001b[0m \u001b[1;33m=\u001b[0m \u001b[0mmodel\u001b[0m\u001b[1;33m.\u001b[0m\u001b[0mwv\u001b[0m\u001b[1;33m.\u001b[0m\u001b[0mvocab\u001b[0m\u001b[1;33m\u001b[0m\u001b[1;33m\u001b[0m\u001b[0m\n\u001b[0m",
      "\u001b[1;32m~\\AppData\\Roaming\\Python\\Python310\\site-packages\\gensim\\models\\keyedvectors.py\u001b[0m in \u001b[0;36mvocab\u001b[1;34m(self)\u001b[0m\n\u001b[0;32m    732\u001b[0m     \u001b[1;33m@\u001b[0m\u001b[0mproperty\u001b[0m\u001b[1;33m\u001b[0m\u001b[1;33m\u001b[0m\u001b[0m\n\u001b[0;32m    733\u001b[0m     \u001b[1;32mdef\u001b[0m \u001b[0mvocab\u001b[0m\u001b[1;33m(\u001b[0m\u001b[0mself\u001b[0m\u001b[1;33m)\u001b[0m\u001b[1;33m:\u001b[0m\u001b[1;33m\u001b[0m\u001b[1;33m\u001b[0m\u001b[0m\n\u001b[1;32m--> 734\u001b[1;33m         raise AttributeError(\n\u001b[0m\u001b[0;32m    735\u001b[0m             \u001b[1;34m\"The vocab attribute was removed from KeyedVector in Gensim 4.0.0.\\n\"\u001b[0m\u001b[1;33m\u001b[0m\u001b[1;33m\u001b[0m\u001b[0m\n\u001b[0;32m    736\u001b[0m             \u001b[1;34m\"Use KeyedVector's .key_to_index dict, .index_to_key list, and methods \"\u001b[0m\u001b[1;33m\u001b[0m\u001b[1;33m\u001b[0m\u001b[0m\n",
      "\u001b[1;31mAttributeError\u001b[0m: The vocab attribute was removed from KeyedVector in Gensim 4.0.0.\nUse KeyedVector's .key_to_index dict, .index_to_key list, and methods .get_vecattr(key, attr) and .set_vecattr(key, attr, new_val) instead.\nSee https://github.com/RaRe-Technologies/gensim/wiki/Migrating-from-Gensim-3.x-to-4"
     ]
    }
   ],
   "source": [
    "vocabulary = model.wv.vocab"
   ]
  },
  {
   "cell_type": "code",
   "execution_count": null,
   "id": "251d3bb4",
   "metadata": {},
   "outputs": [],
   "source": [
    "sim_words = model.wv.most_similar('machine')"
   ]
  },
  {
   "cell_type": "code",
   "execution_count": null,
   "id": "fca397b6",
   "metadata": {},
   "outputs": [],
   "source": [
    "sim_words"
   ]
  },
  {
   "cell_type": "code",
   "execution_count": null,
   "id": "eb9e552e",
   "metadata": {},
   "outputs": [],
   "source": [
    "X = model[model.wv.vocab]"
   ]
  },
  {
   "cell_type": "code",
   "execution_count": null,
   "id": "8ab67bb4",
   "metadata": {},
   "outputs": [],
   "source": []
  }
 ],
 "metadata": {
  "kernelspec": {
   "display_name": "Python 3 (ipykernel)",
   "language": "python",
   "name": "python3"
  },
  "language_info": {
   "codemirror_mode": {
    "name": "ipython",
    "version": 3
   },
   "file_extension": ".py",
   "mimetype": "text/x-python",
   "name": "python",
   "nbconvert_exporter": "python",
   "pygments_lexer": "ipython3",
   "version": "3.10.0"
  }
 },
 "nbformat": 4,
 "nbformat_minor": 5
}
